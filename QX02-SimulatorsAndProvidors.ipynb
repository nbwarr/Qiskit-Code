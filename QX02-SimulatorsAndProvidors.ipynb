{
 "cells": [
  {
   "cell_type": "code",
   "execution_count": 2,
   "id": "c153c892",
   "metadata": {},
   "outputs": [
    {
     "name": "stderr",
     "output_type": "stream",
     "text": [
      "/var/folders/ss/xr5bzh9x3fx5661ffb2lc6ch0000gn/T/ipykernel_33740/2024826632.py:3: DeprecationWarning: The package qiskit.providers.ibmq is being deprecated. Please see https://ibm.biz/provider_migration_guide to get instructions on how to migrate to qiskit-ibm-provider (https://github.com/Qiskit/qiskit-ibm-provider) and qiskit-ibm-runtime (https://github.com/Qiskit/qiskit-ibm-runtime).\n",
      "  IBMQ.save_account(\"f2b92f7e2284f6639ce212508965c07ddf5a2b80d9782010128d5f10699fc4a3bfc8c45972c6bcf7916e837c3a98db9892c5f11c78e78113f103312cc7d2d517\")\n",
      "/var/folders/ss/xr5bzh9x3fx5661ffb2lc6ch0000gn/T/ipykernel_33740/2024826632.py:3: DeprecationWarning: The qiskit.IBMQ entrypoint and the qiskit-ibmq-provider package (accessible from 'qiskit.providers.ibmq`) are deprecated and will be removed in a future release. Instead you should use the qiskit-ibm-provider package which is accessible from 'qiskit_ibm_provider'. You can install it with 'pip install qiskit_ibm_provider'. Just replace 'qiskit.IBMQ' with 'qiskit_ibm_provider.IBMProvider'\n",
      "  IBMQ.save_account(\"f2b92f7e2284f6639ce212508965c07ddf5a2b80d9782010128d5f10699fc4a3bfc8c45972c6bcf7916e837c3a98db9892c5f11c78e78113f103312cc7d2d517\")\n",
      "configrc.store_credentials:WARNING:2023-08-26 17:06:19,204: Credentials already present. Set overwrite=True to overwrite.\n"
     ]
    },
    {
     "data": {
      "text/plain": [
       "<AccountProvider for IBMQ(hub='ibm-q', group='open', project='main')>"
      ]
     },
     "execution_count": 2,
     "metadata": {},
     "output_type": "execute_result"
    }
   ],
   "source": [
    "from qiskit import *\n",
    "\n",
    "# Don't share this with anyone\n",
    "IBMQ.save_account(\"f2b92f7e2284f6639ce212508965c07ddf5a2b80d9782010128d5f10699fc4a3bfc8c45972c6bcf7916e837c3a98db9892c5f11c78e78113f103312cc7d2d517\")\n",
    "IBMQ.load_account()"
   ]
  },
  {
   "cell_type": "code",
   "execution_count": 3,
   "id": "b621cab7",
   "metadata": {},
   "outputs": [
    {
     "data": {
      "text/plain": [
       "[AerSimulator('aer_simulator'),\n",
       " AerSimulator('aer_simulator_statevector'),\n",
       " AerSimulator('aer_simulator_density_matrix'),\n",
       " AerSimulator('aer_simulator_stabilizer'),\n",
       " AerSimulator('aer_simulator_matrix_product_state'),\n",
       " AerSimulator('aer_simulator_extended_stabilizer'),\n",
       " AerSimulator('aer_simulator_unitary'),\n",
       " AerSimulator('aer_simulator_superop'),\n",
       " QasmSimulator('qasm_simulator'),\n",
       " StatevectorSimulator('statevector_simulator'),\n",
       " UnitarySimulator('unitary_simulator'),\n",
       " PulseSimulator('pulse_simulator')]"
      ]
     },
     "execution_count": 3,
     "metadata": {},
     "output_type": "execute_result"
    }
   ],
   "source": [
    "# Shows me the names of the simulators\n",
    "Aer.backends()"
   ]
  },
  {
   "cell_type": "code",
   "execution_count": 4,
   "id": "5c9bf217",
   "metadata": {},
   "outputs": [
    {
     "data": {
      "text/plain": [
       "[<IBMQSimulator('ibmq_qasm_simulator') from IBMQ(hub='ibm-q', group='open', project='main')>,\n",
       " <IBMQBackend('ibmq_lima') from IBMQ(hub='ibm-q', group='open', project='main')>,\n",
       " <IBMQBackend('ibmq_belem') from IBMQ(hub='ibm-q', group='open', project='main')>,\n",
       " <IBMQBackend('ibmq_quito') from IBMQ(hub='ibm-q', group='open', project='main')>,\n",
       " <IBMQSimulator('simulator_statevector') from IBMQ(hub='ibm-q', group='open', project='main')>,\n",
       " <IBMQSimulator('simulator_mps') from IBMQ(hub='ibm-q', group='open', project='main')>,\n",
       " <IBMQSimulator('simulator_extended_stabilizer') from IBMQ(hub='ibm-q', group='open', project='main')>,\n",
       " <IBMQSimulator('simulator_stabilizer') from IBMQ(hub='ibm-q', group='open', project='main')>,\n",
       " <IBMQBackend('ibmq_jakarta') from IBMQ(hub='ibm-q', group='open', project='main')>,\n",
       " <IBMQBackend('ibmq_manila') from IBMQ(hub='ibm-q', group='open', project='main')>,\n",
       " <IBMQBackend('ibm_lagos') from IBMQ(hub='ibm-q', group='open', project='main')>,\n",
       " <IBMQBackend('ibm_nairobi') from IBMQ(hub='ibm-q', group='open', project='main')>,\n",
       " <IBMQBackend('ibm_perth') from IBMQ(hub='ibm-q', group='open', project='main')>]"
      ]
     },
     "execution_count": 4,
     "metadata": {},
     "output_type": "execute_result"
    }
   ],
   "source": [
    "provider = IBMQ.get_provider('ibm-q')\n",
    "\n",
    "# Shows me the available quantum machines that I can work on\n",
    "provider.backends()"
   ]
  },
  {
   "cell_type": "code",
   "execution_count": 8,
   "id": "a7587b02",
   "metadata": {},
   "outputs": [
    {
     "name": "stdout",
     "output_type": "stream",
     "text": [
      "ibmq_qasm_simulator: 0 pending jobs: simulated qubits\n",
      "ibmq_lima: 87 pending jobs: 5 qubits\n",
      "ibmq_belem: 76 pending jobs: 5 qubits\n",
      "ibmq_quito: 60 pending jobs: 5 qubits\n",
      "simulator_statevector: 0 pending jobs: simulated qubits\n",
      "simulator_mps: 0 pending jobs: simulated qubits\n",
      "simulator_extended_stabilizer: 0 pending jobs: simulated qubits\n",
      "simulator_stabilizer: 0 pending jobs: simulated qubits\n",
      "ibmq_jakarta: 118 pending jobs: 7 qubits\n",
      "ibmq_manila: 230 pending jobs: 5 qubits\n",
      "ibm_lagos: 144 pending jobs: 7 qubits\n",
      "ibm_nairobi: 160 pending jobs: 7 qubits\n",
      "ibm_perth: 57 pending jobs: 7 qubits\n"
     ]
    }
   ],
   "source": [
    "# Shows me the number of qubits in the quantum computers so that I know which one to use\n",
    "for backend in provider.backends():\n",
    "    try:\n",
    "        qubit_count = len(backend.properties().qubits)\n",
    "    except:\n",
    "        qubit_count = \"simulated\"\n",
    "    print(f\"{backend.name()}: {backend.status().pending_jobs} pending jobs: {qubit_count} qubits\")"
   ]
  },
  {
   "cell_type": "code",
   "execution_count": null,
   "id": "28524e46",
   "metadata": {},
   "outputs": [],
   "source": []
  }
 ],
 "metadata": {
  "kernelspec": {
   "display_name": "Python 3 (ipykernel)",
   "language": "python",
   "name": "python3"
  },
  "language_info": {
   "codemirror_mode": {
    "name": "ipython",
    "version": 3
   },
   "file_extension": ".py",
   "mimetype": "text/x-python",
   "name": "python",
   "nbconvert_exporter": "python",
   "pygments_lexer": "ipython3",
   "version": "3.9.13"
  }
 },
 "nbformat": 4,
 "nbformat_minor": 5
}
